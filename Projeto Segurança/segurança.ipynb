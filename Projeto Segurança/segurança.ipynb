{
 "cells": [
  {
   "cell_type": "markdown",
   "metadata": {},
   "source": [
    "# Análise de Ameaças STRIDE com Azure OpenAI\n",
    "\n",
    "Este notebook demonstra a lógica principal para analisar um diagrama de arquitetura usando um modelo de visão do Azure OpenAI e a metodologia STRIDE.\n",
    "\n",
    "**Objetivo:** Enviar uma imagem para a IA e receber um relatório de ameaças de cibersegurança."
   ]
  },
  {
   "cell_type": "markdown",
   "metadata": {},
   "source": [
    "### 1. Instalação das Bibliotecas"
   ]
  },
  {
   "cell_type": "code",
   "execution_count": null,
   "metadata": {},
   "outputs": [],
   "source": [
    "!pip install openai python-dotenv"
   ]
  },
  {
   "cell_type": "markdown",
   "metadata": {},
   "source": [
    "### 2. Configuração das Credenciais do Azure OpenAI\n",
    "\n",
    "Para segurança, usaremos a biblioteca `getpass` para solicitar as credenciais sem exibi-las na tela."
   ]
  },
  {
   "cell_type": "code",
   "execution_count": null,
   "metadata": {},
   "outputs": [],
   "source": [
    "import os\n",
    "from getpass import getpass\n",
    "from openai import AzureOpenAI\n",
    "import base64\n",
    "from google.colab import files\n",
    "import IPython.display as display\n",
    "\n",
    "# Solicita as credenciais de forma segura\n",
    "api_endpoint = getpass(\"Digite o seu Endpoint do Azure OpenAI: \")\n",
    "api_key = getpass(\"Digite a sua Chave da API do Azure OpenAI: \")\n",
    "api_deployment = getpass(\"Digite o Nome da sua Implantação (Deployment): \")\n",
    "api_version = \"2024-02-01\"\n",
    "\n",
    "# Inicializa o cliente do Azure OpenAI\n",
    "client = AzureOpenAI(\n",
    "    api_key=api_key,\n",
    "    api_version=api_version,\n",
    "    azure_endpoint=api_endpoint\n",
    ")\n",
    "\n",
    "print(\"Cliente OpenAI configurado com sucesso!\")"
   ]
  },
  {
   "cell_type": "markdown",
   "metadata": {},
   "source": [
    "### 3. Prompt Engineering: Definindo a Tarefa para a IA\n",
    "\n",
    "Este é o passo mais importante. Criamos um prompt detalhado que ensina o modelo sobre a metodologia STRIDE e o instrui sobre como realizar a análise."
   ]
  },
  {
   "cell_type": "code",
   "execution_count": null,
   "metadata": {},
   "outputs": [],
   "source": [
    "PROMPT_STRIDE = \"\"\"\n",
    "Você é um especialista em cibersegurança e modelagem de ameaças. Sua tarefa é analisar o diagrama de arquitetura de aplicação fornecido e gerar uma análise de ameaças detalhada baseada na metodologia STRIDE.\n",
    "\n",
    "A metodologia STRIDE classifica as ameaças em 6 categorias:\n",
    "\n",
    "1.  **Spoofing (Falsificação de Identidade):** Ameaças que envolvem um ator malicioso se passando por outra entidade.\n",
    "    * *Pergunta a se fazer:* Quem pode se passar por um usuário, serviço ou componente legítimo?\n",
    "\n",
    "2.  **Tampering (Violação/Adulteração de Dados):** Ameaças que envolvem a modificação não autorizada de dados.\n",
    "    * *Pergunta a se fazer:* Onde os dados podem ser modificados sem autorização?\n",
    "\n",
    "3.  **Repudiation (Repúdio):** Ameaças que permitem que um ator negue ter realizado uma ação por falta de provas.\n",
    "    * *Pergunta a se fazer:* Como um usuário poderia negar ter feito uma operação? Faltam logs?\n",
    "\n",
    "4.  **Information Disclosure (Divulgação de Informações):** Ameaças que envolvem a exposição de informações sensíveis.\n",
    "    * *Pergunta a se fazer:* Onde informações sensíveis podem ser expostas?\n",
    "\n",
    "5.  **Denial of Service (Negação de Serviço - DoS):** Ameaças que visam tornar um sistema indisponível.\n",
    "    * *Pergunta a se fazer:* Como um atacante poderia travar ou tornar este sistema indisponível?\n",
    "\n",
    "6.  **Elevation of Privilege (Elevação de Privilégio):** Ameaças que permitem que um usuário ganhe acesso a funções com privilégios mais altos.\n",
    "    * *Pergunta a se fazer:* Como um usuário com poucos privilégios poderia ganhar mais acesso do que deveria?\n",
    "\n",
    "**Sua Tarefa:**\n",
    "Analise a imagem do diagrama de arquitetura anexa. Para cada componente e fluxo de dados, identifique potenciais ameaças para cada uma das 6 categorias STRIDE. Apresente sua análise em formato Markdown, organizada por categoria.\n",
    "\"\"\""
   ]
  },
  {
   "cell_type": "markdown",
   "metadata": {},
   "source": [
    "### 4. Função de Análise e Execução\n",
    "\n",
    "Agora, criamos uma função para enviar a imagem e o prompt para a OpenAI. Depois, fazemos o upload de uma imagem e executamos a análise."
   ]
  },
  {
   "cell_type": "code",
   "execution_count": null,
   "metadata": {},
   "outputs": [],
   "source": [
    "def analisar_imagem_stride(image_path):\n",
    "    \"\"\"\n",
    "    Lê uma imagem local, converte para base64 e envia para a análise.\n",
    "    \"\"\"\n",
    "    # Lê a imagem e a codifica em base64\n",
    "    with open(image_path, \"rb\") as image_file:\n",
    "        base64_image = base64.b64encode(image_file.read()).decode('utf-8')\n",
    "\n",
    "    try:\n",
    "        print(\"Enviando imagem para análise... Por favor, aguarde.\")\n",
    "        response = client.chat.completions.create(\n",
    "            model=api_deployment,\n",
    "            messages=[\n",
    "                { \"role\": \"system\", \"content\": \"Você é um especialista em cibersegurança.\" },\n",
    "                { \"role\": \"user\", \"content\": [\n",
    "                    { \"type\": \"text\", \"text\": PROMPT_STRIDE },\n",
    "                    { \"type\": \"image_url\", \"image_url\": {\"url\": f\"data:image/png;base64,{base64_image}\"} }\n",
    "                ]}\n",
    "            ],\n",
    "            max_tokens=2048\n",
    "        )\n",
    "        return response.choices[0].message.content\n",
    "    except Exception as e:\n",
    "        return f\"Ocorreu um erro: {str(e)}\"\n",
    "\n",
    "# --- Execução ---\n",
    "# 1. Fazer o upload do diagrama de arquitetura\n",
    "uploaded = files.upload()\n",
    "\n",
    "# 2. Pegar o nome do arquivo e executar a análise\n",
    "if uploaded:\n",
    "    file_name = next(iter(uploaded))\n",
    "    print(f\"\\nAnalisando o arquivo: {file_name}\")\n",
    "    \n",
    "    # Exibe a imagem que foi enviada\n",
    "    display.display(display.Image(file_name))\n",
    "    \n",
    "    # Chama a função de análise\n",
    "    threat_analysis_report = analisar_imagem_stride(file_name)\n",
    "    \n",
    "    # 3. Exibir o resultado formatado em Markdown\n",
    "    print(\"\\n--- RELATÓRIO DE ANÁLISE DE AMEAÇAS STRIDE ---\")\n",
    "    display.display(display.Markdown(threat_analysis_report))\n",
    "else:\n",
    "    print(\"Nenhum arquivo foi enviado.\")"
   ]
  }
 ],
 "metadata": {
  "colab": {
   "collapsed_sections": [],
   "provenance": []
  },
  "kernelspec": {
   "display_name": "Python 3",
   "name": "python3"
  },
  "language_info": {
   "name": "python"
  }
 },
 "nbformat": 4,
 "nbformat_minor": 0
}
