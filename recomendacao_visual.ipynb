{
 "cells": [
  {
   "cell_type": "markdown",
   "metadata": {},
   "source": [
    "# Sistema de Recomendação Visual por Similaridade de Imagens\n",
    "\n",
    "Este notebook implementa um sistema de **Content-Based Image Retrieval (CBIR)**. O objetivo é recomendar produtos de um catálogo com base na sua similaridade visual com uma imagem de busca.\n",
    "\n",
    "**Metodologia:**\n",
    "1.  **Extração de Características:** Usaremos uma Rede Neural Convolucional (CNN) pré-treinada (VGG16) para 'traduzir' cada imagem em um vetor numérico (embedding) que representa sua aparência (cores, formas, texturas).\n",
    "2.  **Busca por Similaridade:** Comparamos o vetor da imagem de busca com os vetores de todas as imagens do catálogo usando a métrica de Similaridade de Cosseno (*Cosine Similarity*).\n",
    "3.  **Ranking:** Os produtos com os vetores mais próximos (maior similaridade) são exibidos como as melhores recomendações."
   ]
  },
  {
   "cell_type": "markdown",
   "metadata": {},
   "source": [
    "### Fase 1: Configuração do Ambiente e Montagem do Drive\n",
    "\n",
    "Começamos instalando as bibliotecas (se necessário, embora o Colab já tenha a maioria) e conectando ao Google Drive para acessar nossos arquivos de imagem."
   ]
  },
  {
   "cell_type": "code",
   "execution_count": null,
   "metadata": {},
   "outputs": [],
   "source": [
    "import tensorflow as tf\n",
    "from tensorflow.keras.applications.vgg16 import VGG16, preprocess_input\n",
    "from tensorflow.keras.models import Model\n",
    "import numpy as np\n",
    "import os\n",
    "from PIL import Image\n",
    "import pickle\n",
    "from google.colab import drive\n",
    "from sklearn.metrics.pairwise import cosine_similarity\n",
    "import matplotlib.pyplot as plt\n",
    "\n",
    "print(\"Bibliotecas importadas com sucesso.\")\n",
    "\n",
    "# Monta o Google Drive\n",
    "drive.mount('/content/drive')"
   ]
  },
  {
   "cell_type": "markdown",
   "metadata": {},
   "source": [
    "### Fase 2: Carregar o Modelo e Definir a Função de Extração\n",
    "\n",
    "Carregamos o modelo VGG16, pré-treinado no ImageNet, e removemos sua camada final de classificação (`include_top=False`). Isso o transforma em um poderoso extrator de características visuais.\n",
    "\n",
    "A função `extrair_features` irá encapsular todo o processo de carregar, pré-processar e extrair o vetor de uma única imagem."
   ]
  },
  {
   "cell_type": "code",
   "execution_count": null,
   "metadata": {},
   "outputs": [],
   "source": [
    "# Carrega o modelo VGG16 pré-treinado no ImageNet, sem a camada de classificação final\n",
    "base_model = VGG16(weights='imagenet', include_top=False, input_shape=(224, 224, 3))\n",
    "\n",
    "# Criamos um novo modelo que usa a base do VGG16 para extrair as características da camada 'block5_pool'\n",
    "model = Model(inputs=base_model.input, outputs=base_model.get_layer('block5_pool').output)\n",
    "\n",
    "print(\"Modelo extrator de características VGG16 carregado.\")\n",
    "\n",
    "def extrair_features(image_path, model):\n",
    "    \"\"\"\n",
    "    Carrega, pré-processa uma imagem e extrai seu vetor de características (embedding).\n",
    "    \"\"\"\n",
    "    try:\n",
    "        img = Image.open(image_path).convert('RGB')\n",
    "        img = img.resize((224, 224))\n",
    "        x = np.array(img)\n",
    "        x = np.expand_dims(x, axis=0)\n",
    "        x = preprocess_input(x)\n",
    "        features = model.predict(x, verbose=0) # verbose=0 para não poluir a saída\n",
    "        features = features.flatten()\n",
    "        return features\n",
    "    except Exception as e:\n",
    "        print(f\"Erro ao processar a imagem {image_path}: {e}\")\n",
    "        return None"
   ]
  },
  {
   "cell_type": "markdown",
   "metadata": {},
   "source": [
    "### AÇÃO NECESSÁRIA: Prepare seu Catálogo de Imagens\n",
    "\n",
    "Antes de rodar a próxima célula, certifique-se de que você já:\n",
    "1.  Criou uma pasta no seu Google Drive, por exemplo: `/content/drive/MyDrive/catalogo_imagens/`.\n",
    "2.  Fez o upload de **todas as imagens** do seu catálogo de produtos para esta pasta.\n",
    "3.  Verificou se a variável `caminho_catalogo` na célula abaixo corresponde exatamente ao caminho da sua pasta."
   ]
  },
  {
   "cell_type": "markdown",
   "metadata": {},
   "source": [
    "### Fase 3: Indexação do Catálogo de Produtos\n",
    "\n",
    "Este processo (que pode ser demorado) irá passar por cada imagem do seu catálogo, extrair seu vetor de características e salvar todos os vetores em um único arquivo. Isso só precisa ser feito uma vez (ou quando novos produtos forem adicionados)."
   ]
  },
  {
   "cell_type": "code",
   "execution_count": null,
   "metadata": {},
   "outputs": [],
   "source": [
    "# --- CONFIGURAÇÃO DE CAMINHOS ---\n",
    "# ATENÇÃO: Verifique se este caminho está correto!\n",
    "caminho_base = '/content/drive/MyDrive/'\n",
    "caminho_catalogo = os.path.join(caminho_base, 'catalogo_imagens/')\n",
    "caminho_salvar_features = os.path.join(caminho_base, 'features_produtos.pkl')\n",
    "\n",
    "# Lista todos os arquivos de imagem no diretório\n",
    "arquivos_de_imagem = [os.path.join(caminho_catalogo, f) for f in os.listdir(caminho_catalogo) if f.endswith(('.jpg', '.png', '.jpeg'))]\n",
    "\n",
    "catalogo_features = {}\n",
    "\n",
    "print(f\"Iniciando extração de features para {len(arquivos_de_imagem)} imagens...\")\n",
    "\n",
    "for img_path in arquivos_de_imagem:\n",
    "    features = extrair_features(img_path, model)\n",
    "    if features is not None:\n",
    "        catalogo_features[img_path] = features\n",
    "        # Opcional: imprimir um feedback a cada 10 imagens\n",
    "        if len(catalogo_features) % 10 == 0:\n",
    "            print(f\"Processadas {len(catalogo_features)}/{len(arquivos_de_imagem)} imagens...\")\n",
    "\n",
    "# Salva o dicionário de features em um arquivo\n",
    "with open(caminho_salvar_features, 'wb') as f:\n",
    "    pickle.dump(catalogo_features, f)\n",
    "\n",
    "print(f\"\\nExtração concluída! Features salvas em {caminho_salvar_features}\")"
   ]
  },
  {
   "cell_type": "markdown",
   "metadata": {},
   "source": [
    "### Fase 4: Sistema de Recomendação em Ação\n",
    "\n",
    "Finalmente, vamos carregar nosso catálogo de features, escolher uma imagem para a busca e encontrar os produtos mais similares visualmente."
   ]
  },
  {
   "cell_type": "code",
   "execution_count": null,
   "metadata": {},
   "outputs": [],
   "source": [
    "# --- Carregar as features salvas ---\n",
    "caminho_features = '/content/drive/MyDrive/features_produtos.pkl'\n",
    "try:\n",
    "    with open(caminho_features, 'rb') as f:\n",
    "        catalogo_features = pickle.load(f)\n",
    "except FileNotFoundError:\n",
    "    print(\"Erro: Arquivo de features não encontrado. Certifique-se de que a Fase 3 foi executada com sucesso.\")\n",
    "\n",
    "caminhos_imagens = list(catalogo_features.keys())\n",
    "vetores_features = np.array(list(catalogo_features.values()))\n",
    "\n",
    "# --- Imagem de Busca ---\n",
    "# ATENÇÃO: Coloque aqui o caminho de uma imagem que você quer usar para buscar similares.\n",
    "# Pode ser uma imagem de dentro do seu catálogo ou uma nova.\n",
    "caminho_imagem_busca = '/content/drive/MyDrive/catalogo_imagens/image_ebeafd.png' # <--- EDITE ESTE CAMINHO\n",
    "num_recomendacoes = 5\n",
    "\n",
    "print(\"--- Sistema de Recomendação Visual ---\")\n",
    "\n",
    "# 1. Extrair as features da imagem de busca\n",
    "features_busca = extrair_features(caminho_imagem_busca, model)\n",
    "\n",
    "if features_busca is not None:\n",
    "    # 2. Calcular a similaridade de cosseno entre a busca e todos os itens do catálogo\n",
    "    similaridades = cosine_similarity(features_busca.reshape(1, -1), vetores_features)\n",
    "\n",
    "    # 3. Obter os índices das N imagens mais similares\n",
    "    indices_similares = np.argsort(similaridades[0])[::-1]\n",
    "\n",
    "    # --- Exibir os Resultados ---\n",
    "    # Exibir a imagem de busca\n",
    "    print(\"IMAGEM DE BUSCA:\")\n",
    "    try:\n",
    "        plt.imshow(Image.open(caminho_imagem_busca))\n",
    "        plt.axis('off')\n",
    "        plt.show()\n",
    "\n",
    "        # Exibir as recomendações\n",
    "        print(f\"\\nTOP {num_recomendacoes} PRODUTOS RECOMENDADOS:\")\n",
    "        fig, axes = plt.subplots(1, num_recomendacoes, figsize=(20, 5))\n",
    "        \n",
    "        # Começamos de 1 se a imagem de busca estiver no catálogo, para não recomendá-la\n",
    "        start_index = 0\n",
    "        if caminho_imagem_busca in caminhos_imagens:\n",
    "            start_index = 1\n",
    "\n",
    "        for i, idx in enumerate(indices_similares[start_index : num_recomendacoes + start_index]):\n",
    "            img_path = caminhos_imagens[idx]\n",
    "            axes[i].imshow(Image.open(img_path))\n",
    "            axes[i].set_title(f'Similaridade: {similaridades[0][idx]:.2f}')\n",
    "            axes[i].axis('off')\n",
    "        plt.tight_layout()\n",
    "        plt.show()\n",
    "\n",
    "    except FileNotFoundError:\n",
    "        print(f\"Erro: Imagem de busca não encontrada em '{caminho_imagem_busca}'.\")\n",
    "else:\n",
    "    print(\"Não foi possível extrair features da imagem de busca.\")"
   ]
  }
 ],
 "metadata": {
  "colab": {
   "collapsed_sections": [],
   "provenance": []
  },
  "kernelspec": {
   "display_name": "Python 3",
   "name": "python3"
  },
  "language_info": {
   "name": "python"
  }
 },
 "nbformat": 4,
 "nbformat_minor": 0
}
