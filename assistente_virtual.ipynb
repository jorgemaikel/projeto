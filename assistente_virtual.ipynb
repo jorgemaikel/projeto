{
 "cells": [
  {
   "cell_type": "markdown",
   "metadata": {},
   "source": [
    "# Projeto: Assistente Virtual com PLN em Python\n",
    "\n",
    "Este notebook implementa um sistema de assistente virtual do zero, cobrindo os seguintes módulos:\n",
    "1.  **Text-to-Speech (TTS):** Para que a assistente possa falar.\n",
    "2.  **Speech-to-Text (STT):** Para que a assistente possa ouvir e entender comandos de voz.\n",
    "3.  **Lógica de Comandos:** Para executar ações com base nos comandos recebidos."
   ]
  },
  {
   "cell_type": "markdown",
   "metadata": {},
   "source": [
    "### Fase 1: Instalação das Bibliotecas\n",
    "\n",
    "Primeiro, instalamos todas as dependências necessárias para o projeto."
   ]
  },
  {
   "cell_type": "code",
   "execution_count": null,
   "metadata": {},
   "outputs": [],
   "source": [
    "!pip install SpeechRecognition gTTS playsound wikipedia-api geopy"
   ]
  },
  {
   "cell_type": "markdown",
   "metadata": {},
   "source": [
    "**Nota Importante sobre `PyAudio`:**\n",
    "A biblioteca `SpeechRecognition` precisa do `PyAudio` para acessar o microfone. A instalação via `pip` pode ser complicada. Se a célula acima ou as próximas derem erro relacionado ao PyAudio:\n",
    "\n",
    "* **No Anaconda:** Tente `conda install -c anaconda pyaudio` em seu terminal.\n",
    "* **No Linux (Debian/Ubuntu):** Tente `sudo apt-get install python3-pyaudio`.\n",
    "* **No Google Colab:** Geralmente funciona, mas se não, pode ser necessário procurar por workarounds específicos."
   ]
  },
  {
   "cell_type": "markdown",
   "metadata": {},
   "source": [
    "### Fase 2: Módulo de Fala (Text-to-Speech)\n",
    "\n",
    "Esta função será a \"voz\" da nossa assistente. Ela recebe um texto, converte para um arquivo de áudio `.mp3` usando a API do Google Text-to-Speech e o reproduz."
   ]
  },
  {
   "cell_type": "code",
   "execution_count": null,
   "metadata": {},
   "outputs": [],
   "source": [
    "from gtts import gTTS\n",
    "from playsound import playsound\n",
    "import os\n",
    "\n",
    "def falar(texto):\n",
    "    \"\"\"\n",
    "    Converte um texto em áudio e o reproduz.\n",
    "    \"\"\"\n",
    "    try:\n",
    "        # Cria o objeto gTTS com o texto em português do Brasil\n",
    "        tts = gTTS(text=texto, lang='pt-br')\n",
    "        \n",
    "        # Salva o áudio em um arquivo temporário\n",
    "        nome_arquivo = 'resposta_temp.mp3'\n",
    "        tts.save(nome_arquivo)\n",
    "        \n",
    "        # Imprime o que a assistente vai dizer e reproduz o áudio\n",
    "        print(f\"Assistente: {texto}\")\n",
    "        playsound(nome_arquivo)\n",
    "        \n",
    "        # Remove o arquivo de áudio temporário após a reprodução\n",
    "        os.remove(nome_arquivo)\n",
    "    except Exception as e:\n",
    "        print(f\"Ocorreu um erro na síntese de voz: {e}\")\n",
    "\n",
    "# Teste rápido da função (descomente a linha abaixo para testar)\n",
    "# falar(\"Olá, meu módulo de fala está funcionando.\")"
   ]
  },
  {
   "cell_type": "markdown",
   "metadata": {},
   "source": [
    "### Fase 3: Módulo de Audição (Speech-to-Text)\n",
    "\n",
    "Esta função será o \"ouvido\" da assistente. Ela usa o microfone para capturar a fala do usuário e a biblioteca `SpeechRecognition` para transcrevê-la em texto."
   ]
  },
  {
   "cell_type": "code",
   "execution_count": null,
   "metadata": {},
   "outputs": [],
   "source": [
    "import speech_recognition as sr\n",
    "\n",
    "def ouvir_comando():\n",
    "    \"\"\"\n",
    "    Captura o áudio do microfone e o transcreve para texto.\n",
    "    \"\"\"\n",
    "    r = sr.Recognizer()\n",
    "    \n",
    "    with sr.Microphone() as source:\n",
    "        print(\"Ouvindo...\")\n",
    "        # Ajusta o reconhecedor para o ruído do ambiente para melhorar a precisão\n",
    "        r.adjust_for_ambient_noise(source)\n",
    "        audio = r.listen(source)\n",
    "        \n",
    "    try:\n",
    "        print(\"Reconhecendo...\")\n",
    "        # Usa a API de reconhecimento de fala do Google\n",
    "        comando = r.recognize_google(audio, language='pt-BR')\n",
    "        print(f\"Usuário disse: {comando}\")\n",
    "        # Retorna o comando em letras minúsculas para facilitar o processamento\n",
    "        return comando.lower()\n",
    "    except sr.UnknownValueError:\n",
    "        # Erro caso a fala não seja entendida\n",
    "        print(\"Não foi possível entender o áudio.\")\n",
    "        return None\n",
    "    except sr.RequestError as e:\n",
    "        # Erro caso o serviço do Google esteja indisponível\n",
    "        print(f\"Não foi possível solicitar resultados do serviço; {e}\")\n",
    "        return None"
   ]
  },
  {
   "cell_type": "markdown",
   "metadata": {},
   "source": [
    "### Fase 4: Módulo de Ações\n",
    "\n",
    "Aqui definimos as funções específicas que a assistente pode executar, como pesquisar na Wikipedia, abrir o YouTube ou encontrar uma farmácia."
   ]
  },
  {
   "cell_type": "code",
   "execution_count": null,
   "metadata": {},
   "outputs": [],
   "source": [
    "import webbrowser\n",
    "import wikipediaapi\n",
    "from datetime import datetime\n",
    "\n",
    "# Configura a API da Wikipedia para buscar artigos em português\n",
    "wiki_pt = wikipediaapi.Wikipedia('AssistenteVirtual/1.0', 'pt')\n",
    "\n",
    "def pesquisar_wikipedia(termo):\n",
    "    \"\"\"\n",
    "    Pesquisa um termo na Wikipedia e resume o resultado.\n",
    "    \"\"\"\n",
    "    falar(f\"Buscando por {termo} na Wikipedia...\")\n",
    "    pagina = wiki_pt.page(termo)\n",
    "    \n",
    "    if pagina.exists():\n",
    "        # Pega os primeiros 250 caracteres do resumo para uma resposta concisa\n",
    "        resumo = pagina.summary[:250]\n",
    "        falar(f\"De acordo com a Wikipedia, {resumo}...\")\n",
    "    else:\n",
    "        falar(f\"Desculpe, não encontrei resultados para {termo} na Wikipedia.\")\n",
    "\n",
    "def abrir_youtube():\n",
    "    \"\"\"\n",
    "    Abre o site do YouTube no navegador padrão.\n",
    "    \"\"\"\n",
    "    falar(\"Abrindo o YouTube...\")\n",
    "    webbrowser.open(\"https://www.youtube.com\")\n",
    "\n",
    "def encontrar_farmacia_proxima():\n",
    "    \"\"\"\n",
    "    Pergunta por uma localização e abre uma busca no Google Maps.\n",
    "    \"\"\"\n",
    "    falar(\"Claro. Perto de qual endereço ou ponto de referência?\")\n",
    "    local = ouvir_comando()\n",
    "    if local:\n",
    "        falar(f\"Ok, buscando por farmácias perto de {local}.\")\n",
    "        # Cria uma URL de busca no Google Maps e a abre no navegador\n",
    "        url_busca = f\"https://www.google.com/maps/search/farmacias+perto+de+{local.replace(' ', '+')}\"\n",
    "        webbrowser.open(url_busca)\n",
    "    else:\n",
    "        falar(\"Não consegui entender a localização. Por favor, tente novamente.\")\n",
    "        \n",
    "def que_horas_sao():\n",
    "    \"\"\"\n",
    "    Informa a hora atual.\n",
    "    \"\"\"\n",
    "    agora = datetime.now()\n",
    "    falar(f\"Agora são {agora.hour} horas e {agora.minute} minutos.\")"
   ]
  },
  {
   "cell_type": "markdown",
   "metadata": {},
   "source": [
    "### Fase 5: Loop Principal (O Cérebro da Assistente)\n",
    "\n",
    "Esta é a parte final que une tudo. O loop principal fica aguardando um comando de voz e, com base em palavras-chave, decide qual ação tomar. Para parar a assistente, basta dizer \"encerrar\" ou \"parar\"."
   ]
  },
  {
   "cell_type": "code",
   "execution_count": null,
   "metadata": {},
   "outputs": [],
   "source": [
    "def executar_assistente():\n",
    "    \"\"\"\n",
    "    Loop principal que escuta e responde aos comandos.\n",
    "    \"\"\"\n",
    "    falar(\"Assistente virtual online. Como posso ajudar?\")\n",
    "    \n",
    "    while True:\n",
    "        comando = ouvir_comando()\n",
    "        \n",
    "        # Se um comando for reconhecido, processe-o\n",
    "        if comando:\n",
    "            # Comando para pesquisar na Wikipedia\n",
    "            if 'wikipédia sobre' in comando or 'pesquise sobre' in comando:\n",
    "                termo = comando.replace('wikipédia sobre', '').replace('pesquise sobre', '').strip()\n",
    "                if termo:\n",
    "                    pesquisar_wikipedia(termo)\n",
    "                else:\n",
    "                    falar(\"Por favor, diga o que você quer que eu pesquise.\")\n",
    "            \n",
    "            # Comando para abrir o YouTube\n",
    "            elif 'youtube' in comando:\n",
    "                abrir_youtube()\n",
    "            \n",
    "            # Comando para encontrar farmácias\n",
    "            elif 'farmácia' in comando:\n",
    "                encontrar_farmacia_proxima()\n",
    "\n",
    "            # Comando para saber as horas\n",
    "            elif 'que horas são' in comando:\n",
    "                que_horas_sao()\n",
    "            \n",
    "            # Comando para encerrar a assistente\n",
    "            elif 'encerrar' in comando or 'parar' in comando:\n",
    "                falar(\"Encerrando. Até logo!\")\n",
    "                break\n",
    "            \n",
    "            # Caso o comando não seja reconhecido\n",
    "            else:\n",
    "                falar(\"Desculpe, não entendi o comando. Pode repetir?\")"
   ]
  },
  {
   "cell_type": "markdown",
   "metadata": {},
   "source": [
    "### --- INICIAR A ASSISTENTE ---\n",
    "Para iniciar a assistente, execute a célula de código abaixo. Ela irá chamar a função `executar_assistente` e começar o loop de audição."
   ]
  },
  {
   "cell_type": "code",
   "execution_count": null,
   "metadata": {},
   "outputs": [],
   "source": [
    "# Chama a função principal para iniciar a assistente\n",
    "# O programa ficará em loop aqui até que você diga \"encerrar\" ou \"parar\".\n",
    "executar_assistente()"
   ]
  }
 ],
 "metadata": {
  "colab": {
   "collapsed_sections": [],
   "provenance": []
  },
  "kernelspec": {
   "display_name": "Python 3",
   "name": "python3"
  },
  "language_info": {
   "name": "python"
  }
 },
 "nbformat": 4,
 "nbformat_minor": 0
}
