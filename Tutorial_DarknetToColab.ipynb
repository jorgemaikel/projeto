{
 "cells": [
  {
   "cell_type": "markdown",
   "metadata": {},
   "source": [
    "# Treinamento de Modelo YOLO Customizado\n",
    "\n",
    "Este notebook implementa o passo a passo para treinar um detector de objetos YOLOv4-tiny customizado no Google Colab.\n",
    "\n",
    "**Pré-requisitos:**\n",
    "Antes de executar este notebook, você deve ter completado a **Fase A (Preparação dos Dados)**:\n",
    "1. Coletado suas imagens.\n",
    "2. Rotulado com o LabelMe (gerando arquivos `.xml`).\n",
    "3. Convertido as anotações para o formato YOLO (gerando arquivos `.txt`)."
   ]
  },
  {
   "cell_type": "markdown",
   "metadata": {},
   "source": [
    "### Passo 1: Montar o Google Drive e Verificar a GPU\n",
    "\n",
    "Primeiro, conectamos o Colab ao nosso Google Drive para que possamos acessar nossos arquivos. Em seguida, garantimos que uma GPU foi alocada para acelerar o treinamento."
   ]
  },
  {
   "cell_type": "code",
   "execution_count": null,
   "metadata": {},
   "outputs": [],
   "source": [
    "from google.colab import drive\n",
    "drive.mount('/content/drive')\n",
    "\n",
    "# Verifique se a GPU está ativa. Você deve ver uma tabela com informações da sua GPU NVIDIA.\n",
    "# Se der erro, vá em \"Ambiente de execução\" -> \"Alterar tipo de ambiente de execução\" e selecione GPU.\n",
    "!nvidia-smi"
   ]
  },
  {
   "cell_type": "markdown",
   "metadata": {},
   "source": [
    "### Passo 2: Clonar e Compilar o Repositório Darknet\n",
    "\n",
    "Baixamos o framework Darknet (versão de AlexeyAB) e o compilamos com suporte para GPU, CUDNN e OpenCV para obter o máximo de desempenho."
   ]
  },
  {
   "cell_type": "code",
   "execution_count": null,
   "metadata": {},
   "outputs": [],
   "source": [
    "# Clona o repositório do Darknet\n",
    "!git clone https://github.com/AlexeyAB/darknet.git\n",
    "%cd darknet\n",
    "\n",
    "# Modifica o Makefile para habilitar GPU, CUDNN e OpenCV\n",
    "!sed -i 's/OPENCV=0/OPENCV=1/' Makefile\n",
    "!sed -i 's/GPU=0/GPU=1/' Makefile\n",
    "!sed -i 's/CUDNN=0/CUDNN=1/' Makefile\n",
    "!sed -i 's/LIBSO=0/LIBSO=1/' Makefile # Compila a biblioteca para uso posterior em Python\n",
    "\n",
    "# Compila o Darknet (pode levar alguns minutos)\n",
    "!make"
   ]
  },
  {
   "cell_type": "markdown",
   "metadata": {},
   "source": [
    "### Passo 3: Preparar a Estrutura de Arquivos (AÇÃO MANUAL)\n",
    "\n",
    "**Esta é a etapa mais importante!** Antes de prosseguir, você deve ter a seguinte estrutura no seu Google Drive:\n",
    "\n",
    "```\n",
    "/content/drive/MyDrive/\n",
    "└── yolo_treinamento/                # Pasta principal do projeto\n",
    "    ├── dataset/                     # Pasta com seus dados\n",
    "    │   ├── imagem01.jpg\n",
    "    │   ├── imagem01.txt\n",
    "    │   ├── imagem02.jpg\n",
    "    │   ├── imagem02.txt\n",
    "    │   └── ...\n",
    "    ├── backup/                      # O Darknet salvará os pesos aqui (crie esta pasta vazia)\n",
    "    ├── obj.names                    # Arquivo com os nomes das suas classes\n",
    "    ├── obj.data                     # Arquivo de configuração de dados\n",
    "    └── yolov4-tiny-obj.cfg          # Arquivo de configuração da rede\n",
    "```\n",
    "\n",
    "Certifique-se de que os caminhos dentro dos arquivos `obj.data` e `.cfg` estão corretos, como explicado no guia anterior."
   ]
  },
  {
   "cell_type": "markdown",
   "metadata": {},
   "source": [
    "### Passo 4: Gerar os Arquivos `train.txt` e `valid.txt`\n",
    "\n",
    "Este código Python irá ler o conteúdo da sua pasta `dataset` e criar duas listas: uma para as imagens de treino e outra para as de validação, salvando os caminhos absolutos nos arquivos `train.txt` e `valid.txt`."
   ]
  },
  {
   "cell_type": "code",
   "execution_count": null,
   "metadata": {},
   "outputs": [],
   "source": [
    "import os\n",
    "import random\n",
    "\n",
    "# ATENÇÃO: Verifique se este caminho corresponde à sua estrutura no Google Drive\n",
    "caminho_base_drive = '/content/drive/MyDrive/yolo_treinamento/'\n",
    "caminho_dataset = os.path.join(caminho_base_drive, 'dataset/')\n",
    "\n",
    "# Lista todas as imagens .jpg na pasta do dataset\n",
    "all_images = [os.path.join(caminho_dataset, f) for f in os.listdir(caminho_dataset) if f.endswith('.jpg')]\n",
    "random.shuffle(all_images)\n",
    "\n",
    "# Divide em 80% para treino e 20% para validação\n",
    "split_index = int(0.8 * len(all_images))\n",
    "train_images = all_images[:split_index]\n",
    "valid_images = all_images[split_index:]\n",
    "\n",
    "# Salva os caminhos nos arquivos .txt na pasta principal do projeto\n",
    "with open(os.path.join(caminho_base_drive, 'train.txt'), 'w') as f:\n",
    "    f.write('\\n'.join(train_images))\n",
    "\n",
    "with open(os.path.join(caminho_base_drive, 'valid.txt'), 'w') as f:\n",
    "    f.write('\\n'.join(valid_images))\n",
    "\n",
    "print(f\"Arquivo 'train.txt' com {len(train_images)} imagens criado com sucesso!\")\n",
    "print(f\"Arquivo 'valid.txt' com {len(valid_images)} imagens criado com sucesso!\")"
   ]
  },
  {
   "cell_type": "markdown",
   "metadata": {},
   "source": [
    "### Passo 5: Baixar Pesos Pré-treinados\n",
    "\n",
    "Iniciamos o treinamento a partir de pesos já treinados em um dataset gigante (COCO). Isso é chamado de *Transfer Learning* e acelera muito o nosso treinamento."
   ]
  },
  {
   "cell_type": "code",
   "execution_count": null,
   "metadata": {},
   "outputs": [],
   "source": [
    "# Baixa os pesos convolucionais pré-treinados para o yolov4-tiny\n",
    "!wget https://github.com/AlexeyAB/darknet/releases/download/darknet_yolo_v4_pre/yolov4-tiny.conv.29"
   ]
  },
  {
   "cell_type": "markdown",
   "metadata": {},
   "source": [
    "### Passo 6: Iniciar o Treinamento!\n",
    "\n",
    "Este é o comando principal que inicia o processo de treinamento. O Darknet irá carregar seus dados, a configuração da rede, os pesos pré-treinados e começará a aprender.\n",
    "\n",
    "**Atenção:**\n",
    "- Este processo pode levar **várias horas**.\n",
    "- O Colab pode desconectar após um tempo. O progresso é salvo na pasta `backup` a cada 1000 iterações (e o melhor peso é salvo como `_best`).\n",
    "- Se o treinamento for interrompido, você pode retomá-lo trocando o arquivo de pesos inicial (`yolov4-tiny.conv.29`) pelo último peso salvo na pasta `backup`."
   ]
  },
  {
   "cell_type": "code",
   "execution_count": null,
   "metadata": {},
   "outputs": [],
   "source": [
    "# Copia seus arquivos de configuração para as pastas corretas dentro do ambiente do Colab\n",
    "!cp {caminho_base_drive}obj.data ./data/\n",
    "!cp {caminho_base_drive}obj.names ./data/\n",
    "!cp {caminho_base_drive}yolov4-tiny-obj.cfg ./cfg/\n",
    "\n",
    "# Inicia o treinamento\n",
    "!./darknet detector train data/obj.data cfg/yolov4-tiny-obj.cfg yolov4-tiny.conv.29 -dont_show -map"
   ]
  },
  {
   "cell_type": "markdown",
   "metadata": {},
   "source": [
    "### Passo 7: Testar o Modelo Treinado\n",
    "\n",
    "Após o treinamento, você pode usar os pesos que foram salvos na sua pasta `backup` no Google Drive para fazer detecções em novas imagens."
   ]
  },
  {
   "cell_type": "code",
   "execution_count": null,
   "metadata": {},
   "outputs": [],
   "source": [
    "import cv2\n",
    "from google.colab.patches import cv2_imshow\n",
    "\n",
    "# ATENÇÃO: Modifique os caminhos abaixo conforme necessário\n",
    "# Caminho para o arquivo de configuração da rede\n",
    "config_file = './cfg/yolov4-tiny-obj.cfg'\n",
    "# Caminho para o melhor peso salvo durante o treinamento\n",
    "weights_file = f'{caminho_base_drive}backup/yolov4-tiny-obj_best.weights'\n",
    "# Caminho para uma imagem de teste que você queira usar\n",
    "image_path = '/content/drive/MyDrive/yolo_treinamento/imagem_de_teste.jpg' # COLOQUE UMA IMAGEM DE TESTE AQUI\n",
    "\n",
    "# Executa o detector na imagem de teste\n",
    "# O -thresh 0.3 significa que só serão mostradas detecções com confiança acima de 30%\n",
    "!./darknet detector test data/obj.data {config_file} {weights_file} {image_path} -thresh 0.3\n",
    "\n",
    "# Mostra a imagem com as detecções (o darknet salva o resultado como 'predictions.jpg')\n",
    "try:\n",
    "    img = cv2.imread('predictions.jpg')\n",
    "    cv2_imshow(img)\n",
    "except FileNotFoundError:\n",
    "    print(\"Não foi possível encontrar o arquivo 'predictions.jpg'. Verifique se o comando de detecção foi executado corretamente.\")"
   ]
  }
 ],
 "metadata": {
  "colab": {
   "collapsed_sections": [],
   "provenance": []
  },
  "kernelspec": {
   "display_name": "Python 3",
   "name": "python3"
  },
  "language_info": {
   "name": "python"
  }
 },
 "nbformat": 4,
 "nbformat_minor": 0
}
